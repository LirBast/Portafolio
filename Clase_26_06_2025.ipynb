{
  "nbformat": 4,
  "nbformat_minor": 0,
  "metadata": {
    "colab": {
      "provenance": [],
      "authorship_tag": "ABX9TyPsnR2T4yr4CANqJ5vx7NW7",
      "include_colab_link": true
    },
    "kernelspec": {
      "name": "python3",
      "display_name": "Python 3"
    },
    "language_info": {
      "name": "python"
    }
  },
  "cells": [
    {
      "cell_type": "markdown",
      "metadata": {
        "id": "view-in-github",
        "colab_type": "text"
      },
      "source": [
        "<a href=\"https://colab.research.google.com/github/LirBast/Portafolio/blob/main/Clase_26_06_2025.ipynb\" target=\"_parent\"><img src=\"https://colab.research.google.com/assets/colab-badge.svg\" alt=\"Open In Colab\"/></a>"
      ]
    },
    {
      "cell_type": "code",
      "execution_count": null,
      "metadata": {
        "id": "hPC6vDadjAe_"
      },
      "outputs": [],
      "source": [
        "import pandas as pd\n",
        "import numpy as np\n",
        "\n",
        "\n",
        "df=pd.DataFrame({\n",
        "    \"Nombre\":[\"Ana\",np.nan,np.nan,\"Pedro\"],\n",
        "    \"Edad\":[20,50,33,np.nan],\n",
        "    \"Ciudad\":[None,\"Valparaiso\",\"Concepcion\",\"Puerto Montt\"]})\n",
        "print(df)\n",
        "print(\"------------------------------\")\n",
        "print(df.isnull())   ##sirve para identificar si hay valores nulos a traves de valores booleanos\n",
        "print(\"------------------------------\")\n",
        "print(df.isnull().sum())   ### me suma la cantidad por columnas de valores nulos\n",
        "\n",
        "### En Python, np.nan y None son ambos usados para representar \"valores faltantes\" o \"ausentes\",\n",
        "### pero tienen diferencias importantes en su comportamiento y en cómo se usan,\n",
        "### especialmente en ciencia de datos y con bibliotecas como NumPy y pandas.\n",
        "### Hay que tener cuidado donde se utiliza y como transforma los datos ya que pueden hacerse acciones sobres los datos\n",
        "\n",
        "df1=pd.DataFrame({\n",
        "    \"A\":[1,2,None]})\n",
        "print(\"------------------------------\")\n",
        "print(df1.dtypes)\n",
        "\n",
        "print(\"------------------------------\")\n",
        "\n",
        "df1[\"A\"].astype(\"string\")\n",
        "print(df1.dtypes)\n",
        "print(df1)\n",
        "\n",
        "### Panda cuando hay numeros\n",
        "\n",
        "\n",
        "df2=pd.DataFrame({\n",
        "    \"B\":[\"Hola\",\"Mundo\",None]})\n",
        "print(\"------------------------------\")\n",
        "print(df2.dtypes)\n",
        "\n",
        "\n",
        "### panda cuando hay solo caracteres"
      ]
    },
    {
      "cell_type": "code",
      "source": [
        "import pandas as pd\n",
        "import numpy as np\n",
        "\n",
        "df1=pd.DataFrame({\n",
        "    \"A\":[1,2,None]})\n",
        "print(\"------------------------------\")\n",
        "print(df1.dtypes)\n",
        "\n",
        "print(\"------------------------------\")\n",
        "\n",
        "df1[\"A\"]=df1[\"A\"].astype(\"string\")\n",
        "print(df1.dtypes)\n",
        "print(df1)"
      ],
      "metadata": {
        "colab": {
          "base_uri": "https://localhost:8080/"
        },
        "id": "r-jdRZfPqhXp",
        "outputId": "b65348bc-df13-4f59-bc4e-ee38265733a1"
      },
      "execution_count": 32,
      "outputs": [
        {
          "output_type": "stream",
          "name": "stdout",
          "text": [
            "------------------------------\n",
            "A    float64\n",
            "dtype: object\n",
            "------------------------------\n",
            "A    string[python]\n",
            "dtype: object\n",
            "      A\n",
            "0   1.0\n",
            "1   2.0\n",
            "2  <NA>\n"
          ]
        }
      ]
    },
    {
      "cell_type": "code",
      "source": [
        "import pandas as pd\n",
        "import numpy as np\n",
        "\n",
        "\n",
        "df2=pd.DataFrame({\n",
        "    \"B\":[\"Hola\",\"Mundo\",None]})\n",
        "print(\"------------------------------\")\n",
        "print(df2.dtypes)\n",
        "\n",
        "df2[\"B\"]=df2[\"B\"].astype(\"string\")\n",
        "print(df2)"
      ],
      "metadata": {
        "colab": {
          "base_uri": "https://localhost:8080/"
        },
        "id": "QLJa0xs7q7Mj",
        "outputId": "45ae74eb-ce4a-4bc8-d271-efb777731bb1"
      },
      "execution_count": 31,
      "outputs": [
        {
          "output_type": "stream",
          "name": "stdout",
          "text": [
            "------------------------------\n",
            "B    object\n",
            "dtype: object\n",
            "       B\n",
            "0   Hola\n",
            "1  Mundo\n",
            "2   <NA>\n"
          ]
        }
      ]
    }
  ]
}