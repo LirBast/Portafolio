{
  "nbformat": 4,
  "nbformat_minor": 0,
  "metadata": {
    "colab": {
      "provenance": [],
      "authorship_tag": "ABX9TyNACrNxiLLQ/9KpqnOdg/fI",
      "include_colab_link": true
    },
    "kernelspec": {
      "name": "python3",
      "display_name": "Python 3"
    },
    "language_info": {
      "name": "python"
    }
  },
  "cells": [
    {
      "cell_type": "markdown",
      "metadata": {
        "id": "view-in-github",
        "colab_type": "text"
      },
      "source": [
        "<a href=\"https://colab.research.google.com/github/LirBast/Portafolio/blob/main/Clase_26_06_2025_Valores_perdidos2.ipynb\" target=\"_parent\"><img src=\"https://colab.research.google.com/assets/colab-badge.svg\" alt=\"Open In Colab\"/></a>"
      ]
    },
    {
      "cell_type": "code",
      "execution_count": 17,
      "metadata": {
        "colab": {
          "base_uri": "https://localhost:8080/"
        },
        "id": "H24tcMZtuAd7",
        "outputId": "cfa9d431-1b92-42e1-b44d-986add6d8b96"
      },
      "outputs": [
        {
          "output_type": "stream",
          "name": "stdout",
          "text": [
            "    Nombre  Edad\n",
            "0  Bastian    33\n",
            "1     <NA>    45\n",
            "2    Diego    17\n",
            "-----------------------\n",
            "0    False\n",
            "1     True\n",
            "2    False\n",
            "Name: Nombre, dtype: bool\n",
            "-----------------------\n",
            "1\n",
            "-----------------------\n",
            "    Nombre  Edad\n",
            "0  Bastian    33\n",
            "1     <NA>    45\n",
            "2    Diego    17\n",
            "-----------------------\n",
            "             Nombre  Edad\n",
            "0           Bastian    33\n",
            "1  Mayor sin nombre    45\n",
            "2             Diego    17\n"
          ]
        }
      ],
      "source": [
        "import pandas as pd\n",
        "\n",
        "\n",
        "df1=pd.DataFrame({\"Nombre\":[\"Bastian\",None,\"Diego\"],\n",
        "                  \"Edad\":[33,45,17]})\n",
        "\n",
        "df1[\"Nombre\"]=df1[\"Nombre\"].astype(\"string\")\n",
        "\n",
        "print(df1)\n",
        "print(\"-----------------------\")\n",
        "print(df1['Nombre'].isna())    ### Antes hay que transformar el dato a string para poder cambiarlo mas adelante porque de forma predeterminada los convierte a un object que es un valor general\n",
        "print(\"-----------------------\")\n",
        "print(df1['Nombre'].isna().sum())\n",
        "print(\"-----------------------\")\n",
        "##  df1[\"Nombre\"]=df1[\"Nombre\"].fillna(\"Desconocido\")\n",
        "print(df1)\n",
        "print(\"-----------------------\")\n",
        "df1.loc[df1[\"Nombre\"].isna() & (df1[\"Edad\"]>33),\"Nombre\"] =\"Mayor sin nombre\"\n",
        "print(df1)\n"
      ]
    }
  ]
}