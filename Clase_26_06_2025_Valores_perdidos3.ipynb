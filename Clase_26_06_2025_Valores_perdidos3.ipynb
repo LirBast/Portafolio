{
  "nbformat": 4,
  "nbformat_minor": 0,
  "metadata": {
    "colab": {
      "provenance": [],
      "authorship_tag": "ABX9TyNyScUrUKgu701X7UwDEfGN",
      "include_colab_link": true
    },
    "kernelspec": {
      "name": "python3",
      "display_name": "Python 3"
    },
    "language_info": {
      "name": "python"
    }
  },
  "cells": [
    {
      "cell_type": "markdown",
      "metadata": {
        "id": "view-in-github",
        "colab_type": "text"
      },
      "source": [
        "<a href=\"https://colab.research.google.com/github/LirBast/Portafolio/blob/main/Clase_26_06_2025_Valores_perdidos3.ipynb\" target=\"_parent\"><img src=\"https://colab.research.google.com/assets/colab-badge.svg\" alt=\"Open In Colab\"/></a>"
      ]
    },
    {
      "cell_type": "code",
      "execution_count": null,
      "metadata": {
        "colab": {
          "base_uri": "https://localhost:8080/"
        },
        "id": "SjIMp_s9yFri",
        "outputId": "4da081e2-8b83-4dc9-bda5-6608ae7b1637"
      },
      "outputs": [
        {
          "output_type": "stream",
          "name": "stdout",
          "text": [
            "       Nombre  Edad        Ciudad\n",
            "0         Ana  20.0          None\n",
            "1  sin nombre  50.0    Valparaiso\n",
            "2  sin nombre  33.0    Concepcion\n",
            "3       Pedro   NaN  Puerto Montt\n",
            "-------------------------------------\n",
            "       Nombre  Edad           Ciudad\n",
            "0         Ana  20.0  sin informacion\n",
            "1  sin nombre  50.0       Valparaiso\n",
            "2  sin nombre  33.0       Concepcion\n",
            "3       Pedro   NaN     Puerto Montt\n"
          ]
        }
      ],
      "source": [
        "import pandas as pd\n",
        "import numpy as np\n",
        "\n",
        "def clean_columna_TipoStrings(df, columna, reemplazo=\"desconocido\"):\n",
        "    df[columna] = df[columna].astype(\"string\")\n",
        "    df[columna] = df[columna].fillna(reemplazo)\n",
        "    return df\n",
        "\n",
        "df = pd.DataFrame({\n",
        "    \"Nombre\": [\"Ana\", None, None, \"Pedro\"],\n",
        "    \"Edad\": [20, 50, 33, np.nan],\n",
        "    \"Ciudad\": [None, \"Valparaiso\", \"Concepcion\", \"Puerto Montt\"]})\n",
        "\n",
        "# Aplicamos la función a \"Nombre\" y luego a \"Ciudad\"\n",
        "df = clean_columna_TipoStrings(df, \"Nombre\", reemplazo=\"sin nombre\")\n",
        "print(df)\n",
        "\n",
        "print(\"-------------------------------------\")\n",
        "\n",
        "df = clean_columna_TipoStrings(df, \"Ciudad\", reemplazo=\"sin informacion\")\n",
        "print(df)\n"
      ]
    },
    {
      "cell_type": "code",
      "source": [
        "import pandas as pd\n",
        "import numpy as np\n",
        "\n",
        "def clean_columna_TipoStrings(df, columna, reemplazo=\"desconocido\"):\n",
        "    df[columna] = df[columna].astype(\"string\")\n",
        "    df[columna] = df[columna].fillna(reemplazo)\n",
        "    return df\n",
        "\n",
        "df = pd.DataFrame({\n",
        "    \"Nombre\": [\"Ana\", None, None, \"Pedro\"],\n",
        "    \"Edad\": [20, 50, 33, np.nan],\n",
        "    \"Ciudad\": [None, \"Valparaiso\", \"Concepcion\", \"Puerto Montt\"]})\n",
        "\n",
        "\n",
        "columna_a_limpiar=[\"Nombre\",\"Ciudad\"]\n",
        "for columna in columna_a_limpiar:\n",
        "  df = clean_columna_TipoStrings(df,columna,reemplazo=\"sin informacion\")\n",
        "\n",
        "print(df)"
      ],
      "metadata": {
        "colab": {
          "base_uri": "https://localhost:8080/"
        },
        "id": "LPyZkCbk2uOf",
        "outputId": "9d7e75fa-0220-426f-b1b7-69fe7b5148ed"
      },
      "execution_count": null,
      "outputs": [
        {
          "output_type": "stream",
          "name": "stdout",
          "text": [
            "            Nombre  Edad           Ciudad\n",
            "0              Ana  20.0  sin informacion\n",
            "1  sin informacion  50.0       Valparaiso\n",
            "2  sin informacion  33.0       Concepcion\n",
            "3            Pedro   NaN     Puerto Montt\n"
          ]
        }
      ]
    }
  ]
}