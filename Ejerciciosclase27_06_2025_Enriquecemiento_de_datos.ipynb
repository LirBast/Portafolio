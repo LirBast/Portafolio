{
  "nbformat": 4,
  "nbformat_minor": 0,
  "metadata": {
    "colab": {
      "provenance": [],
      "authorship_tag": "ABX9TyOrcFUqZUX0catd+j/t0MGb",
      "include_colab_link": true
    },
    "kernelspec": {
      "name": "python3",
      "display_name": "Python 3"
    },
    "language_info": {
      "name": "python"
    }
  },
  "cells": [
    {
      "cell_type": "markdown",
      "metadata": {
        "id": "view-in-github",
        "colab_type": "text"
      },
      "source": [
        "<a href=\"https://colab.research.google.com/github/LirBast/Portafolio/blob/main/Ejerciciosclase27_06_2025_Enriquecemiento_de_datos.ipynb\" target=\"_parent\"><img src=\"https://colab.research.google.com/assets/colab-badge.svg\" alt=\"Open In Colab\"/></a>"
      ]
    },
    {
      "cell_type": "code",
      "execution_count": null,
      "metadata": {
        "id": "UnkMOA85umH4"
      },
      "outputs": [],
      "source": [
        "import pandas as pd\n",
        "\n",
        "datos=pd.DataFrame({\"Nombre\":[\"Ana\",\"luis\",\"Pedro\",\"Ana\"],\n",
        "                    \"edad\":[23,30,22,23]})\n",
        "print(datos.duplicated())   ## El recorrido empieza de izquierda a derecha, por eso el ultimo valor ese el duplicado\n",
        "print(\"-----------------------------\")\n",
        "datos_sin_duplicados=datos.drop_duplicates()\n",
        "print(datos_sin_duplicados)\n",
        "print(\"-----------------------------\")\n",
        "datos[\"Nombre\"] = datos[\"Nombre\"].replace(\"luis\", \"LUIS\")\n",
        "print(datos)"
      ]
    },
    {
      "cell_type": "code",
      "source": [
        "import pandas as pd\n",
        "datos=pd.DataFrame({\"nombre\":[\"ANa\",\"Ana\",\"ana\",\"Luis\",\"Luis \"]})\n",
        "print(datos)\n",
        "print(\"-----------------------------1\")\n",
        "print(datos.drop_duplicates())\n",
        "print(\"-----------------------------2\")\n",
        "\n",
        "#### datos[\"nombre\"]=datos[\"nombre\"].str.strip().str.lower()  ### se puede hacer 2 cosas en la misma linea\n",
        "\n",
        "datos[\"nombre\"]=datos[\"nombre\"].str.strip()\n",
        "print(datos)\n",
        "print(\"-----------------------------3\")\n",
        "\n",
        "datos[\"nombre\"]=datos[\"nombre\"].str.lower()\n",
        "print(datos)\n",
        "print(\"-----------------------------4\")\n",
        "\n",
        "print(datos)\n",
        "print(\"-----------------------------5\")\n",
        "datos_sin_duplicados=datos.drop_duplicates()\n",
        "print(datos.drop_duplicates())"
      ],
      "metadata": {
        "id": "0pVKQZKg1WKb"
      },
      "execution_count": null,
      "outputs": []
    },
    {
      "cell_type": "code",
      "source": [
        "import pandas as pd\n",
        "\n",
        "edades=pd.Series([0,12,18,69,90])\n",
        "## de 0 a 12 años niños\n",
        "## de 12 a 18 años adolescentes\n",
        "## de 18 a 60 años adultos\n",
        "## de 60 a 100 adultos mayores\n",
        "print(edades)\n",
        "print(\"----------------------------------------\")\n",
        "lista=(\"niños\",\"jovenes\",\"adultos\",\"adulto mayor\")\n",
        "bins=([0,12,18,60,100])  ### los bins son los cortes\n",
        "categorias=pd.cut(edades,bins=bins,labels=lista,right=True)  ##labels le da nombre a los cortes  ### el right=True indica el limite superior si lo incluye\n",
        "print(lista)\n",
        "print(\"----------------------------------------\")\n",
        "print(categorias)"
      ],
      "metadata": {
        "id": "01cPFobk5WHh"
      },
      "execution_count": null,
      "outputs": []
    },
    {
      "cell_type": "code",
      "source": [
        "import pandas as pd\n",
        "\n",
        "df=pd.DataFrame({\"Salario\":[100000,400000,2000001]})\n",
        "print(df)\n",
        "print(\"----------------------------------------\")\n",
        "df[\"ajustado\"]=df[\"Salario\"].apply(lambda x:x*1.1)   ###\n",
        "print(df)\n",
        "print(\"----------------------------------------\")\n",
        "df[\"comparacion\"]=df[\"Salario\"].apply(lambda x:\"Alto\" if x >2000000 else \"Bajo\")\n",
        "print(df)\n",
        "print(\"----------------------------------------\")\n",
        "df[\"categoria\"]=df[\"Salario\"].apply(lambda x:\"Alto\" if x >2000000 else (\"medio\" if x>1500000 else \"bajo\"))\n",
        "print(df)\n"
      ],
      "metadata": {
        "id": "74so1cYB_bKs"
      },
      "execution_count": null,
      "outputs": []
    },
    {
      "cell_type": "code",
      "source": [
        "import pandas as pd\n",
        "from google.colab import files\n",
        "\n",
        "df=pd.DataFrame({\"Salario\":[100000,400000,2000001]})\n",
        "print(df)\n",
        "print(\"----------------------------------------\")\n",
        "df[\"Aumento\"]=df[\"Salario\"]+200000\n",
        "print(df)\n",
        "df=df.drop(\"Aumento\",axis=1)   ### Esta funcion sirve para eliminar una columna\n",
        "print(\"----------------------------------------\")\n",
        "print(df)\n",
        "print(\"----------------------------------------\")\n",
        "df=df.reset_index(drop=True)\n",
        "print(df)\n",
        "print(\"----------------------------------------\")\n",
        "df.index=[\"empleado1\",\"empleado2\",\"empleado3\"]  ### sirve para cambiar los indices\n",
        "print(df)\n",
        "print(\"----------------------------------------\")\n",
        "df=df.reset_index(drop=True)  ### no elimina los valores sino que reestablece los valores de antes\n",
        "print(df)\n",
        "df.to_csv(\"Enriquecemiento_de_datos.csv\", index=False)\n",
        "files.download(\"Enriquecemiento_de_datos.csv\")"
      ],
      "metadata": {
        "id": "FoqTYYsXLu4O"
      },
      "execution_count": null,
      "outputs": []
    }
  ]
}