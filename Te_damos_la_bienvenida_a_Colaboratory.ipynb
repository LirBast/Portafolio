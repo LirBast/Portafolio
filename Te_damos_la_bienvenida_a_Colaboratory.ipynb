{
  "cells": [
    {
      "cell_type": "markdown",
      "metadata": {
        "id": "view-in-github",
        "colab_type": "text"
      },
      "source": [
        "<a href=\"https://colab.research.google.com/github/LirBast/Portafolio/blob/main/Te_damos_la_bienvenida_a_Colaboratory.ipynb\" target=\"_parent\"><img src=\"https://colab.research.google.com/assets/colab-badge.svg\" alt=\"Open In Colab\"/></a>"
      ]
    },
    {
      "cell_type": "code",
      "source": [
        "import pandas as pd\n",
        "\n",
        "serie=pd.Series([10,20,30])\n",
        "print(serie)"
      ],
      "metadata": {
        "colab": {
          "base_uri": "https://localhost:8080/"
        },
        "id": "7E1P38qLPYij",
        "outputId": "89528f39-08f4-4e84-e63b-5d1d248d00be"
      },
      "execution_count": 2,
      "outputs": [
        {
          "output_type": "stream",
          "name": "stdout",
          "text": [
            "0    10\n",
            "1    20\n",
            "2    30\n",
            "dtype: int64\n"
          ]
        }
      ]
    },
    {
      "cell_type": "code",
      "source": [
        "import pandas as pd\n",
        "\n",
        "serie=pd.Series([10,20,30,40], index=[5,\"a\",\"11\",\"numero\"])\n",
        "print(serie[\"11\"])"
      ],
      "metadata": {
        "colab": {
          "base_uri": "https://localhost:8080/"
        },
        "id": "S1nTt--GRAMp",
        "outputId": "488852e4-7779-4476-c057-26d273b37481"
      },
      "execution_count": 10,
      "outputs": [
        {
          "output_type": "stream",
          "name": "stdout",
          "text": [
            "30\n"
          ]
        }
      ]
    },
    {
      "cell_type": "code",
      "source": [
        "datos2={\"matematicas\":50, \"ciencias\":40, \"lenguas\":60}       ###Diccionario las claves son las materias y las notas son los valores\n",
        "materias2=pd.Series(datos2)               #### se puede convetir un diccionario en una serie\n",
        "print(materias2)"
      ],
      "metadata": {
        "colab": {
          "base_uri": "https://localhost:8080/"
        },
        "id": "uUOe2IMhSB8h",
        "outputId": "9e0f9e11-e27d-425d-fb65-9a69f43c99b9"
      },
      "execution_count": 11,
      "outputs": [
        {
          "output_type": "stream",
          "name": "stdout",
          "text": [
            "matematicas    50\n",
            "ciencias       40\n",
            "lenguas        60\n",
            "dtype: int64\n"
          ]
        }
      ]
    },
    {
      "cell_type": "code",
      "source": [
        "import pandas as pd\n",
        "\n",
        "serie=pd.Series([10,20,30,40],index=[5,'a','11','numero'])\n",
        "print(serie)\n",
        "print(serie['11'])\n",
        "print(serie[[\"11\",\"numero\"]])\n",
        "\n",
        "diccionario={\"matematicas\":20,\"ingles\":50,\"ciencias\":70}\n",
        "materias=pd.Series(diccionario)\n",
        "print(materias)\n",
        "print(materias[[\"matematicas\",\"ingles\"]])\n"
      ],
      "metadata": {
        "colab": {
          "base_uri": "https://localhost:8080/"
        },
        "id": "CIrmRS3eTVVC",
        "outputId": "eacb8436-29c8-4a8c-bf55-dd51375c5450"
      },
      "execution_count": 16,
      "outputs": [
        {
          "output_type": "stream",
          "name": "stdout",
          "text": [
            "5         10\n",
            "a         20\n",
            "11        30\n",
            "numero    40\n",
            "dtype: int64\n",
            "30\n",
            "11        30\n",
            "numero    40\n",
            "dtype: int64\n",
            "matematicas    20\n",
            "ingles         50\n",
            "ciencias       70\n",
            "dtype: int64\n",
            "matematicas    20\n",
            "ingles         50\n",
            "dtype: int64\n"
          ]
        }
      ]
    },
    {
      "cell_type": "code",
      "source": [
        "import pandas as pd\n",
        "\n",
        "serie=pd.Series([10,20,30,40],index=[5,'a','11','numero'])\n",
        "print(serie[[\"11\",\"numero\"]])\n",
        "print(serie[[\"numero\",\"11\"]])\n",
        "\n",
        "diccionario={\"matematicas\":20,\"ingles\":50,\"ciencias\":70}\n",
        "materias=pd.Series(diccionario)\n",
        "print(materias[[\"matematicas\",\"ingles\"]])\n",
        "print(materias[[\"ingles\",\"matematicas\"]])"
      ],
      "metadata": {
        "colab": {
          "base_uri": "https://localhost:8080/"
        },
        "id": "d_vY4LGYT_3T",
        "outputId": "2981a3e2-5e00-42fa-81c1-738683d46498"
      },
      "execution_count": 21,
      "outputs": [
        {
          "output_type": "stream",
          "name": "stdout",
          "text": [
            "11        30\n",
            "numero    40\n",
            "dtype: int64\n",
            "numero    40\n",
            "11        30\n",
            "dtype: int64\n",
            "matematicas    20\n",
            "ingles         50\n",
            "dtype: int64\n",
            "ingles         50\n",
            "matematicas    20\n",
            "dtype: int64\n"
          ]
        }
      ]
    },
    {
      "cell_type": "code",
      "source": [
        "import pandas as pd\n",
        "\n",
        "serie=pd.Series([10,20,30,40],index=[5,'a','11','numero'])\n",
        "\n",
        "print(serie[serie>10])\n",
        "print(serie[(serie>10) & (serie<40)])\n",
        "diccionario={\"matematicas\":20,\"ingles\":50,\"ciencias\":70}\n",
        "materias=pd.Series(diccionario)"
      ],
      "metadata": {
        "colab": {
          "base_uri": "https://localhost:8080/"
        },
        "id": "gLeamiAzV-ig",
        "outputId": "29f4e85a-e7d3-4a67-bfd1-1873555d693a"
      },
      "execution_count": 27,
      "outputs": [
        {
          "output_type": "stream",
          "name": "stdout",
          "text": [
            "a         20\n",
            "11        30\n",
            "numero    40\n",
            "dtype: int64\n",
            "a     20\n",
            "11    30\n",
            "dtype: int64\n"
          ]
        }
      ]
    },
    {
      "cell_type": "code",
      "source": [
        "import pandas as pd\n",
        "\n",
        "serie=pd.Series([10,20,30,40],index=[5,'a','11','numero'])\n",
        "media=serie.mean()\n",
        "print(media)\n",
        "\n",
        "maximo=serie.max()\n",
        "print(maximo)\n",
        "\n",
        "print(serie*2)"
      ],
      "metadata": {
        "colab": {
          "base_uri": "https://localhost:8080/"
        },
        "id": "1qTHPVlpZ-DM",
        "outputId": "cddc48e2-1d89-404c-cf95-098b9c888036"
      },
      "execution_count": 33,
      "outputs": [
        {
          "output_type": "stream",
          "name": "stdout",
          "text": [
            "25.0\n",
            "40\n",
            "5         20\n",
            "a         40\n",
            "11        60\n",
            "numero    80\n",
            "dtype: int64\n"
          ]
        }
      ]
    }
  ],
  "metadata": {
    "colab": {
      "name": "Te damos la bienvenida a Colaboratory",
      "provenance": [],
      "include_colab_link": true
    },
    "kernelspec": {
      "display_name": "Python 3",
      "name": "python3"
    }
  },
  "nbformat": 4,
  "nbformat_minor": 0
}