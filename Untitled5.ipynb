{
  "nbformat": 4,
  "nbformat_minor": 0,
  "metadata": {
    "colab": {
      "provenance": [],
      "authorship_tag": "ABX9TyMerU2V0ajTu3DJ5E7XkGAz",
      "include_colab_link": true
    },
    "kernelspec": {
      "name": "python3",
      "display_name": "Python 3"
    },
    "language_info": {
      "name": "python"
    }
  },
  "cells": [
    {
      "cell_type": "markdown",
      "metadata": {
        "id": "view-in-github",
        "colab_type": "text"
      },
      "source": [
        "<a href=\"https://colab.research.google.com/github/LirBast/Portafolio/blob/main/Untitled5.ipynb\" target=\"_parent\"><img src=\"https://colab.research.google.com/assets/colab-badge.svg\" alt=\"Open In Colab\"/></a>"
      ]
    },
    {
      "cell_type": "code",
      "execution_count": 21,
      "metadata": {
        "colab": {
          "base_uri": "https://localhost:8080/"
        },
        "id": "cZw1_6j5a-Rq",
        "outputId": "e5600afa-8b83-44c2-cdd1-42fb184ab4d7"
      },
      "outputs": [
        {
          "output_type": "stream",
          "name": "stdout",
          "text": [
            "   nombre  edad\n",
            "n1    ana    23\n",
            "n2   juan    30\n",
            "n3  pedro    26\n",
            "n4   raul    14\n"
          ]
        },
        {
          "output_type": "execute_result",
          "data": {
            "text/plain": [
              "np.int64(30)"
            ]
          },
          "metadata": {},
          "execution_count": 21
        }
      ],
      "source": [
        "import pandas as pd\n",
        "\n",
        "datos={\"nombre\":[\"ana\",\"juan\",\"pedro\",\"raul\"], \"edad\":[23,30,26,14]}   # se puede hacer una cuadrilla como una hoja de excel\n",
        "df=pd.DataFrame(datos,index=[\"n1\",\"n2\",\"n3\",\"n4\"])\n",
        "print(df)\n",
        "\n",
        "df.loc[\"n2\",\"edad\"]"
      ]
    },
    {
      "cell_type": "code",
      "source": [
        "import pandas as pd\n",
        "\n",
        "datos={\"nombre\":[\"ana\",\"juan\",\"pedro\",\"raul\"], \"edad\":[23,30,26,14]}   # se puede hacer una cuadrilla como una hoja de excel\n",
        "df=pd.DataFrame(datos)\n",
        "print(df)\n",
        "\n",
        "df.iloc[0,1]   ## se le pueden dar coordenadas para encontrar datos en la tabla"
      ],
      "metadata": {
        "colab": {
          "base_uri": "https://localhost:8080/"
        },
        "id": "eU5ONvRxd_uG",
        "outputId": "442e2b0d-184a-48b1-bdac-1020723d647f"
      },
      "execution_count": 26,
      "outputs": [
        {
          "output_type": "stream",
          "name": "stdout",
          "text": [
            "  nombre  edad\n",
            "0    ana    23\n",
            "1   juan    30\n",
            "2  pedro    26\n",
            "3   raul    14\n"
          ]
        },
        {
          "output_type": "execute_result",
          "data": {
            "text/plain": [
              "np.int64(23)"
            ]
          },
          "metadata": {},
          "execution_count": 26
        }
      ]
    },
    {
      "cell_type": "code",
      "source": [
        "import pandas as pd\n",
        "\n",
        "movies={\"titulo\":[\"matrix\",\"gladiador\",\"starwars\"],\"personaje\":[\"neo\",\"maximo\",\"luke\"]}\n",
        "df_peliculas=pd.DataFrame(movies)\n",
        "print(df_peliculas)\n",
        "\n",
        "df_peliculas.loc[1,\"personaje\"]\n",
        "df_peliculas.loc[0,\"titulo\"]"
      ],
      "metadata": {
        "colab": {
          "base_uri": "https://localhost:8080/",
          "height": 105
        },
        "id": "i88V8NpBfchu",
        "outputId": "e2ec877c-aac3-4ee9-cdeb-ce8b2bf9a106"
      },
      "execution_count": 33,
      "outputs": [
        {
          "output_type": "stream",
          "name": "stdout",
          "text": [
            "      titulo personaje\n",
            "0     matrix       neo\n",
            "1  gladiador    maximo\n",
            "2   starwars      luke\n"
          ]
        },
        {
          "output_type": "execute_result",
          "data": {
            "text/plain": [
              "'matrix'"
            ],
            "application/vnd.google.colaboratory.intrinsic+json": {
              "type": "string"
            }
          },
          "metadata": {},
          "execution_count": 33
        }
      ]
    }
  ]
}