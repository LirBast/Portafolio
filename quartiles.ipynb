{
  "nbformat": 4,
  "nbformat_minor": 0,
  "metadata": {
    "colab": {
      "provenance": [],
      "authorship_tag": "ABX9TyO6pqLOwjXpsINppQ3wClYJ",
      "include_colab_link": true
    },
    "kernelspec": {
      "name": "python3",
      "display_name": "Python 3"
    },
    "language_info": {
      "name": "python"
    }
  },
  "cells": [
    {
      "cell_type": "markdown",
      "metadata": {
        "id": "view-in-github",
        "colab_type": "text"
      },
      "source": [
        "<a href=\"https://colab.research.google.com/github/LirBast/Portafolio/blob/main/quartiles.ipynb\" target=\"_parent\"><img src=\"https://colab.research.google.com/assets/colab-badge.svg\" alt=\"Open In Colab\"/></a>"
      ]
    },
    {
      "cell_type": "code",
      "execution_count": 37,
      "metadata": {
        "colab": {
          "base_uri": "https://localhost:8080/"
        },
        "id": "btWE32Ha_19C",
        "outputId": "ab1f290b-b44a-43b9-d3d4-2c239439c1b2"
      },
      "outputs": [
        {
          "output_type": "stream",
          "name": "stdout",
          "text": [
            "0      0\n",
            "1     25\n",
            "2     26\n",
            "3     27\n",
            "4     28\n",
            "5    100\n",
            "dtype: int64\n",
            "----------------\n",
            "el primer quartil es 25.25\n",
            "----------------\n",
            "el tercer quartil es 27.75\n",
            "----------------\n",
            "el IQR es 2.5\n",
            "----------------\n",
            "el limite inferior es 21.5\n",
            "el limite superior es 31.5\n",
            "----------------\n",
            "0      0\n",
            "5    100\n",
            "dtype: int64\n",
            "----------------\n",
            "1    25\n",
            "2    26\n",
            "3    27\n",
            "4    28\n",
            "dtype: int64\n"
          ]
        }
      ],
      "source": [
        "import pandas as pd\n",
        "\n",
        "edades=pd.Series([0,25,26,27,28,100])   ### hay quen tener cuidado con las minusculas y mayusculas\n",
        "\n",
        "### edades=pd.Series([18,20,22,24,26,28,30,32,34,36])\n",
        "### q2 \"mediana\" es 27 [cuando tenemos la cantidad de numeros impares se calcula sumando los 2 numeros centrales y se diviende por 2]\n",
        "### q1 es igual a 22\n",
        "### q3 es igual a 32\n",
        "print(edades)\n",
        "print(\"----------------\")\n",
        "q1=edades.quantile(0.25)\n",
        "print(f\"el primer quartil es {q1}\")\n",
        "print(\"----------------\")\n",
        "q3=edades.quantile(0.75)\n",
        "print(f\"el tercer quartil es {q3}\")\n",
        "iqr=q3-q1\n",
        "print(\"----------------\")\n",
        "print(f\"el IQR es {iqr}\")\n",
        "inf=q1-1.5*iqr\n",
        "superior=q3+1.5*iqr\n",
        "print(\"----------------\")\n",
        "print(f\"el limite inferior es {inf}\")\n",
        "print(f\"el limite superior es {superior}\")\n",
        "print(\"----------------\")\n",
        "outL=edades[(edades<inf) | (edades>superior)]  ### aca quiero saber los outliers\n",
        "print(outL)\n",
        "print(\"----------------\")\n",
        "NotoutL=edades[(edades>inf) & (edades<superior)]  ### esto es para saber los valores no outliers\n",
        "print(NotoutL)"
      ]
    },
    {
      "cell_type": "code",
      "source": [
        "# hacer una lista pero con salarios de personas y\n",
        "# colocar outliers para detectarlos y poder eliminarlos de la lista\n",
        "# reemplacen el outliers por el valor minimo permitido por el IQR, como imputacion"
      ],
      "metadata": {
        "id": "Xf2L9vhWOEJ8"
      },
      "execution_count": null,
      "outputs": []
    }
  ]
}