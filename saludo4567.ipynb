{
  "nbformat": 4,
  "nbformat_minor": 0,
  "metadata": {
    "colab": {
      "provenance": [],
      "authorship_tag": "ABX9TyOWOBCysfJzddmeDibYB1yF",
      "include_colab_link": true
    },
    "kernelspec": {
      "name": "python3",
      "display_name": "Python 3"
    },
    "language_info": {
      "name": "python"
    }
  },
  "cells": [
    {
      "cell_type": "markdown",
      "metadata": {
        "id": "view-in-github",
        "colab_type": "text"
      },
      "source": [
        "<a href=\"https://colab.research.google.com/github/LirBast/Portafolio/blob/main/saludo4567.ipynb\" target=\"_parent\"><img src=\"https://colab.research.google.com/assets/colab-badge.svg\" alt=\"Open In Colab\"/></a>"
      ]
    },
    {
      "cell_type": "code",
      "execution_count": null,
      "metadata": {
        "colab": {
          "base_uri": "https://localhost:8080/"
        },
        "id": "dg53hkmbOWDZ",
        "outputId": "8716001a-88c3-40b3-ac6a-d861a7ad0804"
      },
      "outputs": [
        {
          "output_type": "stream",
          "name": "stdout",
          "text": [
            "Hola mundo\n",
            "Hola mundo\n",
            "nombre: juan y la edad es: 34\n",
            "nombre: juan y la edad es:34\n"
          ]
        }
      ],
      "source": [
        "print(\"Hola mundo\")\n",
        "nombre=\"juan\"\n",
        "print(\"Hola mundo\")\n",
        "nombre=\"juan\"\n",
        "edad=34\n",
        "print(\"nombre:\",nombre,\"y la edad es:\",edad)\n",
        "print(f\"nombre: {nombre} y la edad es:{edad}\")"
      ]
    },
    {
      "cell_type": "code",
      "source": [
        "op1=float(input(\"ingrese el primer operando: \"))\n",
        "op2=float(input(\"ingrese el segundo operando: \"))\n",
        "print(\"El resultado de la suma es: \", float(op1) + float(op2)) #tengo que asignarle un tipo de dato para que no me de error por ejemplo\n",
        "print(\"El resultado de la resta es: \", float(op1) - float(op2))\n",
        "print(\"El resultado de la multiplicacion es: \", float(op1) * float(op2))\n",
        "print(\"El resultado de la division es: \", float(op1) / float(op2))\n",
        "print(\"El resultado de la division entera es: \", float(op1) // float(op2))\n",
        "print(\"El resultado del modulo es: \", float(op1) % float(op2))\n",
        "print(\"El resultado de la exponente es: \", float(op1) ** float(op2))\n",
        "\n",
        "\n"
      ],
      "metadata": {
        "colab": {
          "base_uri": "https://localhost:8080/"
        },
        "id": "1AqZi0H1SW6a",
        "outputId": "bbeaa41a-be02-44d3-a7fd-a2ef0ae1fc2b"
      },
      "execution_count": null,
      "outputs": [
        {
          "output_type": "stream",
          "name": "stdout",
          "text": [
            "ingrese el primer operando: 11\n",
            "ingrese el segundo operando: 8.2\n",
            "El resultado de la suma es:  19.2\n",
            "El resultado de la resta es:  2.8000000000000007\n",
            "El resultado de la multiplicacion es:  90.19999999999999\n",
            "El resultado de la division es:  1.3414634146341464\n",
            "El resultado de la division entera es:  1.0\n",
            "El resultado del modulo es:  2.8000000000000007\n",
            "El resultado de la exponente es:  346274107.2769144\n"
          ]
        }
      ]
    },
    {
      "cell_type": "code",
      "source": [
        "from re import X\n",
        "#para cambiar de un decimal a un entero lo cambiamos de variable\n",
        "\n",
        "x=5.15\n",
        "y=int(x)\n",
        "print(y)\n",
        "\n",
        "z=str(y)\n",
        "print(z)\n",
        "\n",
        "print(x+z) #no se puede sumar un valor numero numerico como un float o un int con un valor de caracter como un string (str)"
      ],
      "metadata": {
        "colab": {
          "base_uri": "https://localhost:8080/",
          "height": 211
        },
        "id": "y9HdEzAHcTox",
        "outputId": "bf2a7b8f-0021-41f3-ef8b-fe882edcde17"
      },
      "execution_count": null,
      "outputs": [
        {
          "output_type": "stream",
          "name": "stdout",
          "text": [
            "5\n",
            "5\n"
          ]
        },
        {
          "output_type": "error",
          "ename": "TypeError",
          "evalue": "unsupported operand type(s) for +: 'float' and 'str'",
          "traceback": [
            "\u001b[0;31m---------------------------------------------------------------------------\u001b[0m",
            "\u001b[0;31mTypeError\u001b[0m                                 Traceback (most recent call last)",
            "\u001b[0;32m<ipython-input-10-ea3c10c10a31>\u001b[0m in \u001b[0;36m<cell line: 0>\u001b[0;34m()\u001b[0m\n\u001b[1;32m      9\u001b[0m \u001b[0mprint\u001b[0m\u001b[0;34m(\u001b[0m\u001b[0mz\u001b[0m\u001b[0;34m)\u001b[0m\u001b[0;34m\u001b[0m\u001b[0;34m\u001b[0m\u001b[0m\n\u001b[1;32m     10\u001b[0m \u001b[0;34m\u001b[0m\u001b[0m\n\u001b[0;32m---> 11\u001b[0;31m \u001b[0mprint\u001b[0m\u001b[0;34m(\u001b[0m\u001b[0mx\u001b[0m\u001b[0;34m+\u001b[0m\u001b[0mz\u001b[0m\u001b[0;34m)\u001b[0m\u001b[0;34m\u001b[0m\u001b[0;34m\u001b[0m\u001b[0m\n\u001b[0m",
            "\u001b[0;31mTypeError\u001b[0m: unsupported operand type(s) for +: 'float' and 'str'"
          ]
        }
      ]
    },
    {
      "cell_type": "code",
      "source": [
        "a=1\n",
        "print(bool(a)) #un booleano es un dato que es verdadero o falso del tipo de caracter"
      ],
      "metadata": {
        "colab": {
          "base_uri": "https://localhost:8080/"
        },
        "id": "6dP4gA6AdPZo",
        "outputId": "656a31d9-d72b-4503-c6aa-e0c1ddd1b97d"
      },
      "execution_count": null,
      "outputs": [
        {
          "output_type": "stream",
          "name": "stdout",
          "text": [
            "True\n"
          ]
        }
      ]
    },
    {
      "cell_type": "code",
      "source": [
        "temperatura =25\n",
        "if temperatura>20:\n",
        "  print(\"Hace calor\")    #la identación es clave para que el programa ejecute la consulta"
      ],
      "metadata": {
        "colab": {
          "base_uri": "https://localhost:8080/"
        },
        "id": "1eU9SnHqjn1u",
        "outputId": "5cc6f90e-432d-48cd-8064-51c46e18e783"
      },
      "execution_count": null,
      "outputs": [
        {
          "output_type": "stream",
          "name": "stdout",
          "text": [
            "Hace calor\n"
          ]
        }
      ]
    },
    {
      "cell_type": "code",
      "source": [
        "temperatura = 21\n",
        "if temperatura>25:\n",
        "  print(\"Hace calor\")\n",
        "elif temperatura>19 and temperatura<=25:  #es una combinacion para varios casos\n",
        "  print(\"Clima fresco\")\n",
        "else:\n",
        "    print(\"Hace frio\")"
      ],
      "metadata": {
        "colab": {
          "base_uri": "https://localhost:8080/"
        },
        "id": "B7vJOu-Ijnpm",
        "outputId": "2f933365-a1aa-4f03-8f17-bc6ca0c346bd"
      },
      "execution_count": null,
      "outputs": [
        {
          "output_type": "stream",
          "name": "stdout",
          "text": [
            "Clima fresco\n"
          ]
        }
      ]
    },
    {
      "cell_type": "code",
      "source": [
        "edad=2\n",
        "if edad>=18:\n",
        "  print(\"es mayor de edad\")\n",
        "elif edad>11 and edad<18:\n",
        "  print(\"Es un adolescente\")\n",
        "elif edad>2 and edad<=11:\n",
        "  print(\"es un niño\")\n",
        "else:\n",
        "  print(\"es un bebe\")"
      ],
      "metadata": {
        "colab": {
          "base_uri": "https://localhost:8080/"
        },
        "id": "RRJhbT28mgcy",
        "outputId": "3614951b-ef05-473a-95ec-ab7d4ef4d52d"
      },
      "execution_count": null,
      "outputs": [
        {
          "output_type": "stream",
          "name": "stdout",
          "text": [
            "es un bebe\n"
          ]
        }
      ]
    },
    {
      "cell_type": "code",
      "source": [
        "edad=int(input(\"Ingrese su edad\"))\n",
        "\n",
        "if edad>=18:\n",
        "  print(\"es mayor de edad\")\n",
        "elif edad>11 and edad<18:\n",
        "  print(\"Es un adolescente\")\n",
        "elif edad>2 and edad<=11:\n",
        "  print(\"es un niño\")\n",
        "else:\n",
        "  print(\"es un bebe\")"
      ],
      "metadata": {
        "colab": {
          "base_uri": "https://localhost:8080/"
        },
        "id": "NjxZ8sWIswQa",
        "outputId": "229d5ca6-7748-43a3-bc4a-7ca518686dcb"
      },
      "execution_count": null,
      "outputs": [
        {
          "output_type": "stream",
          "name": "stdout",
          "text": [
            "Ingrese su edad18\n",
            "es mayor de edad\n"
          ]
        }
      ]
    },
    {
      "cell_type": "code",
      "source": [
        "a=int(input(\"ingrese el primer numero\"))\n",
        "b=int(input(\"ingrese el segundo numero\"))\n",
        "\n",
        "if a%2==0 and b%2==0:    # == es igualda es para comparar  ((((= es asignacion == es para comparar))))\n",
        "  print(\"suma:\", a+b)    #!= es para usar distinto o de negacion\n",
        "elif a%2!=0 and b%2==1:\n",
        "  print(\"resta\", a-b)\n",
        "elif a%2==0 and b%2==1:\n",
        "  print(\"producto\", a*b)\n",
        "else:\n",
        "  print(\"division\", a/b)"
      ],
      "metadata": {
        "colab": {
          "base_uri": "https://localhost:8080/"
        },
        "id": "eDR5BIsSvG5n",
        "outputId": "4f31f57f-78f2-4eeb-b0f0-74e98eba0eb5"
      },
      "execution_count": null,
      "outputs": [
        {
          "output_type": "stream",
          "name": "stdout",
          "text": [
            "ingrese el primer numero4\n",
            "ingrese el segundo numero5\n",
            "producto 20\n"
          ]
        }
      ]
    }
  ]
}